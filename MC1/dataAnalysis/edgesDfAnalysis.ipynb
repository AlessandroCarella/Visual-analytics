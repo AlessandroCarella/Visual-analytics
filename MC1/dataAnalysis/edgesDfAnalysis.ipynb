{
 "cells": [
  {
   "cell_type": "code",
   "execution_count": 1,
   "metadata": {},
   "outputs": [],
   "source": [
    "import pandas as pd"
   ]
  },
  {
   "cell_type": "code",
   "execution_count": 2,
   "metadata": {},
   "outputs": [],
   "source": [
    "dfPath = '../V1/edges.csv'"
   ]
  },
  {
   "cell_type": "code",
   "execution_count": 3,
   "metadata": {},
   "outputs": [],
   "source": [
    "df = pd.read_csv(dfPath)"
   ]
  },
  {
   "cell_type": "code",
   "execution_count": 4,
   "metadata": {},
   "outputs": [
    {
     "data": {
      "text/plain": [
       "Index(['type', 'weight', 'dataset', 'source', 'target', 'key'], dtype='object')"
      ]
     },
     "execution_count": 4,
     "metadata": {},
     "output_type": "execute_result"
    }
   ],
   "source": [
    "df.columns"
   ]
  },
  {
   "cell_type": "code",
   "execution_count": 5,
   "metadata": {},
   "outputs": [],
   "source": [
    "df = df.drop([\"dataset\", \"key\"], axis=1)"
   ]
  },
  {
   "cell_type": "code",
   "execution_count": 6,
   "metadata": {},
   "outputs": [
    {
     "data": {
      "text/plain": [
       "source\n",
       "903311212                               220\n",
       "png xi  Line                            214\n",
       "SeaSpray Wave SRL Solutions             207\n",
       "Ocean Fisheries Llc                     207\n",
       "Mar del Oeste Pic                       186\n",
       "                                       ... \n",
       "Christopher Benitez                       1\n",
       "19a4297e-2d2b-47c0-9dce-816148a16f4e      1\n",
       "Pitâ                                      1\n",
       "John Martin                               1\n",
       "c40a73e5-c1dd-4b85-ac1c-2e6a51546aa7      1\n",
       "Name: count, Length: 2320, dtype: int64"
      ]
     },
     "execution_count": 6,
     "metadata": {},
     "output_type": "execute_result"
    }
   ],
   "source": [
    "df[\"source\"].value_counts()"
   ]
  },
  {
   "cell_type": "code",
   "execution_count": 7,
   "metadata": {},
   "outputs": [
    {
     "data": {
      "text/plain": [
       "target\n",
       "Ocean Fisheries Llc               193\n",
       "png xi  Line                      185\n",
       "SeaSpray Wave SRL Solutions       184\n",
       "Mar del Oeste Pic                 170\n",
       "903311212                         170\n",
       "                                 ... \n",
       "Nautical Navigators Kga United      1\n",
       "945632766                           1\n",
       "Andrew Miller                       1\n",
       "Meghan Kim                          1\n",
       "thirty days                         1\n",
       "Name: count, Length: 2631, dtype: int64"
      ]
     },
     "execution_count": 7,
     "metadata": {},
     "output_type": "execute_result"
    }
   ],
   "source": [
    "df[\"target\"].value_counts()"
   ]
  },
  {
   "cell_type": "code",
   "execution_count": 8,
   "metadata": {},
   "outputs": [
    {
     "data": {
      "text/plain": [
       "type\n",
       "membership             3777\n",
       "partnership            2917\n",
       "family_relationship    2395\n",
       "ownership              1980\n",
       "Name: count, dtype: int64"
      ]
     },
     "execution_count": 8,
     "metadata": {},
     "output_type": "execute_result"
    }
   ],
   "source": [
    "df[\"type\"].value_counts()"
   ]
  },
  {
   "cell_type": "code",
   "execution_count": 9,
   "metadata": {},
   "outputs": [],
   "source": [
    "df.to_csv(\"../V1/edgesClean.csv\", index=False)"
   ]
  }
 ],
 "metadata": {
  "kernelspec": {
   "display_name": "Python 3",
   "language": "python",
   "name": "python3"
  },
  "language_info": {
   "codemirror_mode": {
    "name": "ipython",
    "version": 3
   },
   "file_extension": ".py",
   "mimetype": "text/x-python",
   "name": "python",
   "nbconvert_exporter": "python",
   "pygments_lexer": "ipython3",
   "version": "3.12.4"
  }
 },
 "nbformat": 4,
 "nbformat_minor": 2
}
