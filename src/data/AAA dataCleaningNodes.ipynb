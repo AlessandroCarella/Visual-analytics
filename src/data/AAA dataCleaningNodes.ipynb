{
 "cells": [
  {
   "cell_type": "markdown",
   "metadata": {},
   "source": [
    "### read file"
   ]
  },
  {
   "cell_type": "code",
   "execution_count": 1,
   "metadata": {},
   "outputs": [],
   "source": [
    "import pandas as pd"
   ]
  },
  {
   "cell_type": "code",
   "execution_count": 2,
   "metadata": {},
   "outputs": [],
   "source": [
    "df = pd.read_json('dfsNotInUseAnymore/nodes.json')"
   ]
  },
  {
   "cell_type": "code",
   "execution_count": 3,
   "metadata": {},
   "outputs": [
    {
     "data": {
      "text/plain": [
       "(3428, 3)"
      ]
     },
     "execution_count": 3,
     "metadata": {},
     "output_type": "execute_result"
    }
   ],
   "source": [
    "df.shape"
   ]
  },
  {
   "cell_type": "code",
   "execution_count": 4,
   "metadata": {},
   "outputs": [
    {
     "data": {
      "text/plain": [
       "array(['company', 'organization', None, 'person', 'location',\n",
       "       'political_organization', 'vessel', 'movement', 'event'],\n",
       "      dtype=object)"
      ]
     },
     "execution_count": 4,
     "metadata": {},
     "output_type": "execute_result"
    }
   ],
   "source": [
    "df[\"type\"].unique ()"
   ]
  },
  {
   "cell_type": "markdown",
   "metadata": {},
   "source": [
    "### check how many empty type"
   ]
  },
  {
   "cell_type": "code",
   "execution_count": 5,
   "metadata": {},
   "outputs": [],
   "source": [
    "dfNoNullType = df.dropna(subset=['type'])"
   ]
  },
  {
   "cell_type": "code",
   "execution_count": 6,
   "metadata": {},
   "outputs": [
    {
     "data": {
      "text/plain": [
       "(10284, 8469)"
      ]
     },
     "execution_count": 6,
     "metadata": {},
     "output_type": "execute_result"
    }
   ],
   "source": [
    "df.size, dfNoNullType.size"
   ]
  },
  {
   "cell_type": "code",
   "execution_count": 7,
   "metadata": {},
   "outputs": [
    {
     "data": {
      "text/plain": [
       "1815"
      ]
     },
     "execution_count": 7,
     "metadata": {},
     "output_type": "execute_result"
    }
   ],
   "source": [
    "df.size-dfNoNullType.size"
   ]
  },
  {
   "cell_type": "code",
   "execution_count": 8,
   "metadata": {},
   "outputs": [],
   "source": [
    "dfNoNullType.to_json (\"nodesNoNullType.json\", orient=\"records\", indent=4)"
   ]
  },
  {
   "cell_type": "markdown",
   "metadata": {},
   "source": [
    "### check how many empty country"
   ]
  },
  {
   "cell_type": "code",
   "execution_count": 20,
   "metadata": {},
   "outputs": [
    {
     "name": "stdout",
     "output_type": "stream",
     "text": [
      "10284 3336\n",
      "6948\n"
     ]
    }
   ],
   "source": [
    "dfNoNullCountry = df.dropna(subset=['country'])\n",
    "print(df.size, dfNoNullCountry.size)\n",
    "print (df.size-dfNoNullCountry.size)\n",
    "dfNoNullCountry.to_json (\"dfNoNullCountry.json\", orient=\"records\", indent=4)\n"
   ]
  },
  {
   "cell_type": "markdown",
   "metadata": {},
   "source": [
    "### check duplicates"
   ]
  },
  {
   "cell_type": "code",
   "execution_count": 9,
   "metadata": {},
   "outputs": [
    {
     "data": {
      "text/plain": [
       "np.int64(0)"
      ]
     },
     "execution_count": 9,
     "metadata": {},
     "output_type": "execute_result"
    }
   ],
   "source": [
    "df.duplicated().sum()"
   ]
  },
  {
   "cell_type": "code",
   "execution_count": 10,
   "metadata": {},
   "outputs": [
    {
     "name": "stdout",
     "output_type": "stream",
     "text": [
      "type: type\n",
      "person                    1022\n",
      "organization               987\n",
      "location                   393\n",
      "political_organization     121\n",
      "vessel                     115\n",
      "company                     90\n",
      "event                       74\n",
      "movement                    21\n",
      "Name: count, dtype: int64\n",
      "\n",
      "country: country\n",
      "Country_271835    870\n",
      "Oceanus            42\n",
      "Marebak            14\n",
      "Nalakond            6\n",
      "Country_789455      6\n",
      "                 ... \n",
      "Country_984172      1\n",
      "Country_193919      1\n",
      "Country_928409      1\n",
      "Country_615819      1\n",
      "Country_286580      1\n",
      "Name: count, Length: 117, dtype: int64\n",
      "\n",
      "id: id\n",
      "77                2\n",
      "23                2\n",
      "90                2\n",
      "98                2\n",
      "621               2\n",
      "                 ..\n",
      "860067396         1\n",
      "664738735         1\n",
      "290834957         1\n",
      "Timothy Reeves    1\n",
      "341411            1\n",
      "Name: count, Length: 3417, dtype: int64\n",
      "\n"
     ]
    }
   ],
   "source": [
    "for col in df.columns:\n",
    "    print(f\"{col}: {df[col].value_counts()}\\n\")"
   ]
  },
  {
   "cell_type": "markdown",
   "metadata": {},
   "source": [
    "there are duplicate ids"
   ]
  },
  {
   "cell_type": "code",
   "execution_count": 11,
   "metadata": {},
   "outputs": [],
   "source": [
    "duplicated_ids = dfNoNullType[dfNoNullType.duplicated('id', keep=False)]"
   ]
  },
  {
   "cell_type": "code",
   "execution_count": 12,
   "metadata": {},
   "outputs": [
    {
     "data": {
      "text/plain": [
       "Index(['77', '18', '23', '621', '626', '90', '38'], dtype='object', name='id')"
      ]
     },
     "execution_count": 12,
     "metadata": {},
     "output_type": "execute_result"
    }
   ],
   "source": [
    "duplicated_ids[\"id\"].value_counts().keys()"
   ]
  },
  {
   "cell_type": "code",
   "execution_count": 13,
   "metadata": {},
   "outputs": [
    {
     "data": {
      "text/html": [
       "<div>\n",
       "<style scoped>\n",
       "    .dataframe tbody tr th:only-of-type {\n",
       "        vertical-align: middle;\n",
       "    }\n",
       "\n",
       "    .dataframe tbody tr th {\n",
       "        vertical-align: top;\n",
       "    }\n",
       "\n",
       "    .dataframe thead th {\n",
       "        text-align: right;\n",
       "    }\n",
       "</style>\n",
       "<table border=\"1\" class=\"dataframe\">\n",
       "  <thead>\n",
       "    <tr style=\"text-align: right;\">\n",
       "      <th></th>\n",
       "      <th>type</th>\n",
       "      <th>country</th>\n",
       "      <th>id</th>\n",
       "    </tr>\n",
       "  </thead>\n",
       "  <tbody>\n",
       "    <tr>\n",
       "      <th>966</th>\n",
       "      <td>organization</td>\n",
       "      <td>None</td>\n",
       "      <td>18</td>\n",
       "    </tr>\n",
       "    <tr>\n",
       "      <th>226</th>\n",
       "      <td>vessel</td>\n",
       "      <td>None</td>\n",
       "      <td>18</td>\n",
       "    </tr>\n",
       "    <tr>\n",
       "      <th>250</th>\n",
       "      <td>organization</td>\n",
       "      <td>None</td>\n",
       "      <td>23</td>\n",
       "    </tr>\n",
       "    <tr>\n",
       "      <th>2772</th>\n",
       "      <td>vessel</td>\n",
       "      <td>None</td>\n",
       "      <td>23</td>\n",
       "    </tr>\n",
       "    <tr>\n",
       "      <th>1296</th>\n",
       "      <td>movement</td>\n",
       "      <td>None</td>\n",
       "      <td>38</td>\n",
       "    </tr>\n",
       "    <tr>\n",
       "      <th>1170</th>\n",
       "      <td>organization</td>\n",
       "      <td>None</td>\n",
       "      <td>38</td>\n",
       "    </tr>\n",
       "    <tr>\n",
       "      <th>572</th>\n",
       "      <td>political_organization</td>\n",
       "      <td>None</td>\n",
       "      <td>621</td>\n",
       "    </tr>\n",
       "    <tr>\n",
       "      <th>979</th>\n",
       "      <td>vessel</td>\n",
       "      <td>None</td>\n",
       "      <td>621</td>\n",
       "    </tr>\n",
       "    <tr>\n",
       "      <th>2340</th>\n",
       "      <td>political_organization</td>\n",
       "      <td>None</td>\n",
       "      <td>626</td>\n",
       "    </tr>\n",
       "    <tr>\n",
       "      <th>937</th>\n",
       "      <td>vessel</td>\n",
       "      <td>None</td>\n",
       "      <td>626</td>\n",
       "    </tr>\n",
       "    <tr>\n",
       "      <th>1693</th>\n",
       "      <td>organization</td>\n",
       "      <td>None</td>\n",
       "      <td>77</td>\n",
       "    </tr>\n",
       "    <tr>\n",
       "      <th>121</th>\n",
       "      <td>vessel</td>\n",
       "      <td>None</td>\n",
       "      <td>77</td>\n",
       "    </tr>\n",
       "    <tr>\n",
       "      <th>1940</th>\n",
       "      <td>event</td>\n",
       "      <td>None</td>\n",
       "      <td>90</td>\n",
       "    </tr>\n",
       "    <tr>\n",
       "      <th>1085</th>\n",
       "      <td>organization</td>\n",
       "      <td>None</td>\n",
       "      <td>90</td>\n",
       "    </tr>\n",
       "  </tbody>\n",
       "</table>\n",
       "</div>"
      ],
      "text/plain": [
       "                        type country   id\n",
       "966             organization    None   18\n",
       "226                   vessel    None   18\n",
       "250             organization    None   23\n",
       "2772                  vessel    None   23\n",
       "1296                movement    None   38\n",
       "1170            organization    None   38\n",
       "572   political_organization    None  621\n",
       "979                   vessel    None  621\n",
       "2340  political_organization    None  626\n",
       "937                   vessel    None  626\n",
       "1693            organization    None   77\n",
       "121                   vessel    None   77\n",
       "1940                   event    None   90\n",
       "1085            organization    None   90"
      ]
     },
     "execution_count": 13,
     "metadata": {},
     "output_type": "execute_result"
    }
   ],
   "source": [
    "duplicated_ids = duplicated_ids.sort_values(by=['id', 'type'])\n",
    "duplicated_ids"
   ]
  },
  {
   "cell_type": "code",
   "execution_count": 14,
   "metadata": {},
   "outputs": [],
   "source": [
    "duplicated_ids.to_csv(\"temp.csv\", index=False)"
   ]
  },
  {
   "cell_type": "markdown",
   "metadata": {},
   "source": [
    "at first glance vessel seems to be the most common type in the type duplicates dataset\n",
    "\n",
    "therefore, in the beginning i tought to remove the instances where type is 'vessel' because it seemed to me as a wrong record of the data."
   ]
  },
  {
   "cell_type": "code",
   "execution_count": 15,
   "metadata": {},
   "outputs": [
    {
     "name": "stderr",
     "output_type": "stream",
     "text": [
      "C:\\Users\\alex1\\AppData\\Local\\Temp\\ipykernel_30152\\2600206135.py:8: FutureWarning: Series.__getitem__ treating keys as positions is deprecated. In a future version, integer keys will always be treated as labels (consistent with DataFrame behavior). To access a value by position, use `ser.iloc[pos]`\n",
      "  ax.text(i, counts[i], str(counts[i]), ha='center', va='bottom')\n"
     ]
    },
    {
     "data": {
      "image/png": "[encoded data removed]",
      "text/plain": [
       "<Figure size 640x480 with 1 Axes>"
      ]
     },
     "metadata": {},
     "output_type": "display_data"
    }
   ],
   "source": [
    "import matplotlib.pyplot as plt\n",
    "# Count occurrences and plot\n",
    "counts = dfNoNullType['type'].value_counts()\n",
    "ax = counts.plot(kind='bar', color='skyblue')\n",
    "\n",
    "# Add exact numbers on the bars\n",
    "for i in range(len(counts)):\n",
    "    ax.text(i, counts[i], str(counts[i]), ha='center', va='bottom')\n",
    "\n",
    "plt.title('Histogram of Type Column')\n",
    "plt.xlabel('Type')\n",
    "plt.ylabel('Frequency')\n",
    "plt.xticks(rotation=45)\n",
    "plt.show()"
   ]
  },
  {
   "cell_type": "markdown",
   "metadata": {},
   "source": [
    "after plotting the quantities of each type, one can observe that the vessel class is not one of the most commons\n",
    "\n",
    "therefore i decided to remove the instances that are the least common as a type from the dataset\n",
    "\n",
    "so for example in the cases of :\n",
    "\n",
    "966\torganization\tNone\t18\n",
    "\n",
    "226\tvessel\tNone\t18\n",
    "\n",
    "since organization is present 987 times into the dataset and vessel is present 115 times the instance of type vessel will be stored in the new dataset\n",
    "\n",
    "and \n",
    "\n",
    "1296\tmovement\tNone\t38\n",
    "\n",
    "1170\torganization\tNone\t38\n",
    "\n",
    "since organization is present 987 times into the dataset and movement is present 21 times the instance of type movement will be stored in the new dataset\n"
   ]
  },
  {
   "cell_type": "code",
   "execution_count": 16,
   "metadata": {},
   "outputs": [
    {
     "data": {
      "text/plain": [
       "Index([966, 250, 1170, 572, 2340, 1693, 1085], dtype='int64')"
      ]
     },
     "execution_count": 16,
     "metadata": {},
     "output_type": "execute_result"
    }
   ],
   "source": [
    "countsDict = dict(counts)\n",
    "\n",
    "recordsToRemove = duplicated_ids.copy()\n",
    "recordsToRemove['count'] = recordsToRemove['type'].map(countsDict)\n",
    "\n",
    "# Remove duplicates based on id, keeping the one with the highest count\n",
    "recordsToRemove = recordsToRemove.loc[recordsToRemove.groupby('id')['count'].idxmax()]\n",
    "\n",
    "# Drop the count column if you no longer need it\n",
    "recordsToRemove = recordsToRemove.drop(columns=['count'])\n",
    "\n",
    "indexesOfRecordsToRemove = recordsToRemove.index\n",
    "indexesOfRecordsToRemove"
   ]
  },
  {
   "cell_type": "code",
   "execution_count": 17,
   "metadata": {},
   "outputs": [
    {
     "data": {
      "text/plain": [
       "(8469, 8448)"
      ]
     },
     "execution_count": 17,
     "metadata": {},
     "output_type": "execute_result"
    }
   ],
   "source": [
    "dfNoNullTypeNoDuplicateIds = dfNoNullType.drop(indexesOfRecordsToRemove)\n",
    "dfNoNullType.size, dfNoNullTypeNoDuplicateIds.size"
   ]
  },
  {
   "cell_type": "code",
   "execution_count": 18,
   "metadata": {},
   "outputs": [],
   "source": [
    "dfNoNullTypeNoDuplicateIds.to_json(\"nodesNoNullTypeNoDuplicateIds.json\", orient=\"records\", indent=4)"
   ]
  }
 ],
 "metadata": {
  "kernelspec": {
   "display_name": "Python 3",
   "language": "python",
   "name": "python3"
  },
  "language_info": {
   "codemirror_mode": {
    "name": "ipython",
    "version": 3
   },
   "file_extension": ".py",
   "mimetype": "text/x-python",
   "name": "python",
   "nbconvert_exporter": "python",
   "pygments_lexer": "ipython3",
   "version": "3.9.13"
  }
 },
 "nbformat": 4,
 "nbformat_minor": 2
}
