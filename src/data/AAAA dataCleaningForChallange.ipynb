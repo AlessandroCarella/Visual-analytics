{
 "cells": [
  {
   "cell_type": "markdown",
   "metadata": {},
   "source": [
    "focus on the entities given by the task\n",
    "\n",
    "Entities to investigate\n",
    "\n",
    "1. Mar de la Vida OJSC\n",
    "2. 979893388\n",
    "3. Oceanfront Oasis Inc Carrie\n",
    "4. 8327"
   ]
  },
  {
   "cell_type": "code",
   "execution_count": 22,
   "metadata": {},
   "outputs": [],
   "source": [
    "entitiesToInvestigate = [\"Mar de la Vida OJSC\", \"979893388\", \"Oceanfront Oasis Inc Carrie\", \"8327\"]"
   ]
  },
  {
   "cell_type": "code",
   "execution_count": 23,
   "metadata": {},
   "outputs": [],
   "source": [
    "import pandas as pd"
   ]
  },
  {
   "cell_type": "code",
   "execution_count": 24,
   "metadata": {},
   "outputs": [],
   "source": [
    "df = pd.read_json(\"mergedDataset.json\")"
   ]
  },
  {
   "cell_type": "code",
   "execution_count": 25,
   "metadata": {},
   "outputs": [
    {
     "data": {
      "text/plain": [
       "Index(['typeOfLink', 'weight', 'source', 'sourceType', 'target', 'targetType',\n",
       "       'sourceCountry', 'targetCountry'],\n",
       "      dtype='object')"
      ]
     },
     "execution_count": 25,
     "metadata": {},
     "output_type": "execute_result"
    }
   ],
   "source": [
    "df.columns"
   ]
  },
  {
   "cell_type": "code",
   "execution_count": 26,
   "metadata": {},
   "outputs": [],
   "source": [
    "# connectionsSourcePov = {entity:{'1':[]} for entity in entitiesToInvestigate}\n",
    "# for entity in connectionsSourcePov:\n",
    "#     for index, row in df.iterrows():\n",
    "#         if entity == row[\"source\"]:\n",
    "#             connectionsSourcePov[row[\"source\"]]['1'].append(row[\"target\"])\n",
    "\n",
    "# # maxDistance = 10\n",
    "# # currentDistance = '2'\n",
    "# # while (int(currentDistance) != maxDistance):\n",
    "# #     #for entityToInvestigate, levelConnections in connectionsSourcePov.items():\n",
    "# #     for entity in entitiesToInvestigate:\n",
    "# #         connectionsSourcePov[entity][currentDistance]=[]\n",
    "# #         for previouslyTargetMaybeSource in connectionsSourcePov[entity][str(int(currentDistance) - 1)]: \n",
    "# #             for index, row in df.iterrows():\n",
    "# #                 if previouslyTargetMaybeSource == row[\"source\"]:\n",
    "# #                     connectionsSourcePov[entity][currentDistance].append(row[\"target\"])\n",
    "\n",
    "# #     currentDistance = str(int(currentDistance) + 1)\n",
    "# connectionsSourcePov"
   ]
  },
  {
   "cell_type": "markdown",
   "metadata": {},
   "source": [
    "### sources"
   ]
  },
  {
   "cell_type": "code",
   "execution_count": 27,
   "metadata": {},
   "outputs": [],
   "source": [
    "# Step 1: Preprocess the DataFrame\n",
    "source_to_targets = df.groupby(\"source\")[\"target\"].apply(list).to_dict()"
   ]
  },
  {
   "cell_type": "code",
   "execution_count": 28,
   "metadata": {},
   "outputs": [],
   "source": [
    "# Step 2: Initialize the dictionary\n",
    "connectionsSourcePov = {entity: {'1': []} for entity in entitiesToInvestigate}"
   ]
  },
  {
   "cell_type": "code",
   "execution_count": 29,
   "metadata": {},
   "outputs": [],
   "source": [
    "# Step 3: Populate the initial connections\n",
    "for entity in connectionsSourcePov:\n",
    "    if entity in source_to_targets:\n",
    "        connectionsSourcePov[entity]['1'] = source_to_targets[entity]"
   ]
  },
  {
   "cell_type": "code",
   "execution_count": 30,
   "metadata": {},
   "outputs": [
    {
     "data": {
      "text/plain": [
       "{'Mar de la Vida OJSC': {'1': ['Kevin Burnett',\n",
       "   'Jon White',\n",
       "   'Rebecca Walker',\n",
       "   'Amanda Scott',\n",
       "   '22 Raptor',\n",
       "   'Gerald Washington',\n",
       "   'Jessica Kelly',\n",
       "   'â\\x80\\x9cHe',\n",
       "   '33681303',\n",
       "   '60017',\n",
       "   'b8567859-bf54-49fd-8332-5775e19c65af',\n",
       "   'Ancla Azul Company Solutions']},\n",
       " '979893388': {'1': ['Oceanfront Oasis Inc Carriers',\n",
       "   'months',\n",
       "   'Sept',\n",
       "   'John Gonzalez',\n",
       "   'Amy Wise',\n",
       "   '34',\n",
       "   '98703',\n",
       "   'Dana Goodwin',\n",
       "   '567',\n",
       "   '990',\n",
       "   '23',\n",
       "   'Jennifer Reilly',\n",
       "   'Kristin Jones',\n",
       "   'Krystal Lee',\n",
       "   'ARA Contraalmirante Cordero',\n",
       "   'Irish Sea SRL Brothers',\n",
       "   'Romero Oyster NV Carriers',\n",
       "   'Sea Harvest',\n",
       "   'â\\x80\\x9cBHFâ',\n",
       "   'Madhya Pradesh Market BV',\n",
       "   'usa',\n",
       "   '4',\n",
       "   '418382',\n",
       "   '16927047',\n",
       "   '30041',\n",
       "   '6471708',\n",
       "   '520673',\n",
       "   '565431',\n",
       "   'Benton Ltd. Liability Co',\n",
       "   'ninety',\n",
       "   '90',\n",
       "   'days',\n",
       "   'sh rn y Corporation',\n",
       "   '822596165',\n",
       "   '5421',\n",
       "   '2913',\n",
       "   'Pez Dorado BV Logistics',\n",
       "   '019d89a8-36be-4402-bf3c-d13cb982cf3f',\n",
       "   'Ryabikova',\n",
       "   'Erica Hamilton',\n",
       "   'Michael Reed',\n",
       "   'Andrea Gibson',\n",
       "   'Kelsey Tucker',\n",
       "   'Ryan Lewis',\n",
       "   'Jessica Figueroa DDS',\n",
       "   '57',\n",
       "   'Luis Jones',\n",
       "   'c01c6a10-60c9-4f11-9409-aa04c3963826',\n",
       "   '17232',\n",
       "   'Derek Burke',\n",
       "   'John Barnes DDS',\n",
       "   'wgbh',\n",
       "   'brianbushard',\n",
       "   'Robert Shaffer',\n",
       "   'Jeremy Woodard',\n",
       "   'Paul Wiley',\n",
       "   'Miranda Long',\n",
       "   'Amanda Mckenzie',\n",
       "   'Michelle Kelley',\n",
       "   'Austin Simpson',\n",
       "   'su y CJSC Canal',\n",
       "   'Robert Vega',\n",
       "   'â\\x80\\x99â',\n",
       "   'Christopher Miller',\n",
       "   'â\\x80\\x98enticedâ',\n",
       "   '8814',\n",
       "   '25851337',\n",
       "   'b1a0ee2a-0e6d-48c2-b639-032e4648fa5c',\n",
       "   'â\\x80\\x9cbracatinga',\n",
       "   'meridaâ',\n",
       "   'ROBYN BECK',\n",
       "   '13d79d632036',\n",
       "   '20370602035941',\n",
       "   '526269',\n",
       "   '3404599',\n",
       "   '7775',\n",
       "   'Faroe Islands Shrimp Shark',\n",
       "   'Sonia Fisheries Pvt',\n",
       "   'png xi  Line',\n",
       "   'png xi  Line',\n",
       "   'Mar del Oeste Pic']},\n",
       " 'Oceanfront Oasis Inc Carrie': {'1': []},\n",
       " '8327': {'1': ['185106',\n",
       "   'weeks',\n",
       "   '40213337',\n",
       "   'cutters',\n",
       "   '435054320',\n",
       "   '7505050',\n",
       "   'â\\x80\\x9cIllegal',\n",
       "   'water',\n",
       "   'Calvin Salas']}}"
      ]
     },
     "execution_count": 30,
     "metadata": {},
     "output_type": "execute_result"
    }
   ],
   "source": [
    "connectionsSourcePov"
   ]
  },
  {
   "cell_type": "code",
   "execution_count": 31,
   "metadata": {},
   "outputs": [],
   "source": [
    "import json\n",
    "maxDistance = 200\n",
    "\n",
    "for dist in range(2, maxDistance + 1):\n",
    "    currentDistance = str(dist)\n",
    "    previousDistance = str(dist - 1)\n",
    "    \n",
    "    for entity in entitiesToInvestigate:\n",
    "        connectionsSourcePov[entity][currentDistance] = []\n",
    "        \n",
    "        for prev_target in connectionsSourcePov[entity][previousDistance]:\n",
    "            if prev_target in source_to_targets:\n",
    "                connectionsSourcePov[entity][currentDistance].extend(source_to_targets[prev_target])\n",
    "                \n",
    "        # Remove duplicates if necessary\n",
    "        connectionsSourcePov[entity][currentDistance] = list(set(connectionsSourcePov[entity][currentDistance]))\n",
    "    \n",
    "    with open (\"connectionsLevelsSouspectSources.json\", \"w\") as f:\n",
    "        json.dump(connectionsSourcePov, f, indent=4)"
   ]
  },
  {
   "cell_type": "markdown",
   "metadata": {},
   "source": [
    "### targets"
   ]
  },
  {
   "cell_type": "code",
   "execution_count": 32,
   "metadata": {},
   "outputs": [],
   "source": [
    "# Step 1: Preprocess the DataFrame\n",
    "targets_to_sources = df.groupby(\"target\")[\"source\"].apply(list).to_dict()"
   ]
  },
  {
   "cell_type": "code",
   "execution_count": 33,
   "metadata": {},
   "outputs": [],
   "source": [
    "# Step 2: Initialize the dictionary\n",
    "connectionsTargetPov = {entity: {'1': []} for entity in entitiesToInvestigate}"
   ]
  },
  {
   "cell_type": "code",
   "execution_count": 34,
   "metadata": {},
   "outputs": [],
   "source": [
    "# Step 3: Populate the initial connections\n",
    "for entity in connectionsTargetPov:\n",
    "    if entity in targets_to_sources:\n",
    "        connectionsTargetPov[entity]['1'] = targets_to_sources[entity]"
   ]
  },
  {
   "cell_type": "code",
   "execution_count": 35,
   "metadata": {},
   "outputs": [
    {
     "data": {
      "text/plain": [
       "{'Mar de la Vida OJSC': {'1': ['9345',\n",
       "   'Kevin Burnett',\n",
       "   'decfc924-5bdc-4fba-8bbd-bb57d8d478d9',\n",
       "   'FishEye International',\n",
       "   'Ancla Azul Company Solutions']},\n",
       " '979893388': {'1': ['Faroe Islands Shrimp Shark',\n",
       "   '4',\n",
       "   '196159',\n",
       "   '9067',\n",
       "   '750975',\n",
       "   '750975',\n",
       "   '69150209',\n",
       "   '5',\n",
       "   'Maria Mitchell',\n",
       "   '9',\n",
       "   '14bda3bb-9993-4265-97cc-1747808c144e',\n",
       "   '6731',\n",
       "   '665',\n",
       "   '947',\n",
       "   'Michael Compton',\n",
       "   '4348721',\n",
       "   'b20c0baf-8530-4a84-a5b6-8da324ebebdb',\n",
       "   '435054320',\n",
       "   'f21800ca-b3c9-404b-8438-3d75ea84c409',\n",
       "   '1560',\n",
       "   'Sept',\n",
       "   'John Gonzalez',\n",
       "   'png xi  Line',\n",
       "   'April',\n",
       "   'Jennifer Alvarez',\n",
       "   '49',\n",
       "   '34',\n",
       "   'Stephanie Hinton',\n",
       "   '672',\n",
       "   'Mar del Oeste Pic',\n",
       "   'Mar del Oeste Pic',\n",
       "   'Mar del Oeste Pic',\n",
       "   'Mar del Oeste Pic',\n",
       "   'Mar del Oeste Pic',\n",
       "   '98332',\n",
       "   '9786',\n",
       "   'Dana Goodwin',\n",
       "   '7023',\n",
       "   '17c99d9d-7049-4ebb-8a2a-f3d39cc42870',\n",
       "   'c14a3dc1-59d0-4b92-b9f3-331e51912787',\n",
       "   'Christopher Peterson',\n",
       "   'Abigail Foster',\n",
       "   'â\\x80\\x9cU',\n",
       "   'Kelly Brown',\n",
       "   'ad8fe467-3759-4f53-bf6a-896a237d187f',\n",
       "   'Linda Sherman',\n",
       "   '3016',\n",
       "   'e1d7b4ac-ed31-42a4-9375-4afb0f78f276',\n",
       "   'Mary Horton',\n",
       "   '67a59fab-710a-4992-b6d0-d581fd9dceba',\n",
       "   '1972868',\n",
       "   'Audrey Romero',\n",
       "   'Stephanie Quinn',\n",
       "   '9590898',\n",
       "   'Joshua Garrett',\n",
       "   '21240092',\n",
       "   '6335187',\n",
       "   'Jessica Owens',\n",
       "   '7548555',\n",
       "   '36744944',\n",
       "   'Shawna Welch',\n",
       "   '903311212',\n",
       "   '903311212',\n",
       "   '903311212',\n",
       "   '903311212',\n",
       "   '903311212',\n",
       "   '903311212',\n",
       "   '23990411',\n",
       "   '415053',\n",
       "   '665912557',\n",
       "   '327277616',\n",
       "   '58877070',\n",
       "   'usa',\n",
       "   'oceana',\n",
       "   'Blake Smith',\n",
       "   'Makayla Anderson',\n",
       "   '4657860',\n",
       "   'Lisa Rocha',\n",
       "   '6f59e8d7-8f5d-4a7d-a3a4-50ddcb7ad9ad',\n",
       "   '542341',\n",
       "   'Erica Hamilton',\n",
       "   '9979944',\n",
       "   'Stephanie Wiley',\n",
       "   'Lisa Ward',\n",
       "   'William Fernandez',\n",
       "   '8634589',\n",
       "   '9345',\n",
       "   'Seth Kelley',\n",
       "   '739622',\n",
       "   '7675191',\n",
       "   '4356',\n",
       "   '6070651',\n",
       "   'c01c6a10-60c9-4f11-9409-aa04c3963826',\n",
       "   '156',\n",
       "   '1eb512b7-c4ce-4b7e-9965-2236bf1afc9e',\n",
       "   'f656719b-783e-452b-801f-f60895068b23',\n",
       "   'b1d6e468-f3c5-45f3-90a2-e76b2f329b2d',\n",
       "   'Feb',\n",
       "   '436460757',\n",
       "   '912077',\n",
       "   'Danielle Jensen',\n",
       "   '76104890',\n",
       "   'Sudd Swamp  Wave AS Freight ',\n",
       "   '74026296',\n",
       "   'Diane Forbes',\n",
       "   'Dawn Robinson',\n",
       "   '076',\n",
       "   'b8567859-bf54-49fd-8332-5775e19c65af',\n",
       "   'SeaSpray Wave SRL Solutions',\n",
       "   'SeaSpray Wave SRL Solutions',\n",
       "   'SeaSpray Wave SRL Solutions',\n",
       "   'SeaSpray Wave SRL Solutions',\n",
       "   'SeaSpray Wave SRL Solutions',\n",
       "   'SeaSpray Wave SRL Solutions',\n",
       "   'Ocean Fisheries Llc',\n",
       "   'Ocean Fisheries Llc',\n",
       "   'Estrella de Coral Ltd. Corporation Logistics',\n",
       "   'Seafood',\n",
       "   'Caribbean',\n",
       "   'â\\x80\\x9cCompliance',\n",
       "   'Forwading S.A. de C.V.',\n",
       "   'â\\x80\\x9cUS',\n",
       "   'Lake Tanganyika Sea AS Shipping',\n",
       "   'MV']},\n",
       " 'Oceanfront Oasis Inc Carrie': {'1': []},\n",
       " '8327': {'1': ['435054320',\n",
       "   'Coast',\n",
       "   '7505050',\n",
       "   'Today',\n",
       "   '160',\n",
       "   'Seabreeze Foods Ltd. Corporation United']}}"
      ]
     },
     "execution_count": 35,
     "metadata": {},
     "output_type": "execute_result"
    }
   ],
   "source": [
    "connectionsTargetPov"
   ]
  },
  {
   "cell_type": "code",
   "execution_count": 36,
   "metadata": {},
   "outputs": [],
   "source": [
    "#same but for targets\n",
    "import json\n",
    "maxDistance = 200\n",
    "\n",
    "for dist in range(2, maxDistance + 1):\n",
    "    currentDistance = str(dist)\n",
    "    previousDistance = str(dist - 1)\n",
    "    \n",
    "    for entity in entitiesToInvestigate:\n",
    "        connectionsTargetPov[entity][currentDistance] = []\n",
    "        \n",
    "        for prev_source in connectionsTargetPov[entity][previousDistance]:\n",
    "            if prev_source in targets_to_sources:\n",
    "                connectionsTargetPov[entity][currentDistance].extend(targets_to_sources[prev_source])\n",
    "                \n",
    "        # Remove duplicates if necessary\n",
    "        connectionsTargetPov[entity][currentDistance] = list(set(connectionsTargetPov[entity][currentDistance]))\n",
    "    \n",
    "    with open (\"connectionsLevelsSouspectTargets.json\", \"w\") as f:\n",
    "        json.dump(connectionsTargetPov, f, indent=4)"
   ]
  }
 ],
 "metadata": {
  "kernelspec": {
   "display_name": "Python 3",
   "language": "python",
   "name": "python3"
  },
  "language_info": {
   "codemirror_mode": {
    "name": "ipython",
    "version": 3
   },
   "file_extension": ".py",
   "mimetype": "text/x-python",
   "name": "python",
   "nbconvert_exporter": "python",
   "pygments_lexer": "ipython3",
   "version": "3.12.4"
  }
 },
 "nbformat": 4,
 "nbformat_minor": 2
}
