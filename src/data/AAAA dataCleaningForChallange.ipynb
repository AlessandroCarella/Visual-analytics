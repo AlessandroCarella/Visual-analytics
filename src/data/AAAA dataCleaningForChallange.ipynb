{
 "cells": [
  {
   "cell_type": "markdown",
   "metadata": {},
   "source": [
    "focus on the entities given by the task\n",
    "\n",
    "Entities to investigate\n",
    "\n",
    "1. Mar de la Vida OJSC\n",
    "2. 979893388\n",
    "3. Oceanfront Oasis Inc Carrie\n",
    "4. 8327"
   ]
  },
  {
   "cell_type": "code",
   "execution_count": null,
   "metadata": {},
   "outputs": [],
   "source": [
    "entitiesToInvestigate = [\"Mar de la Vida OJSC\", \"979893388\", \"Oceanfront Oasis Inc Carrie\", \"8327\"]"
   ]
  },
  {
   "cell_type": "code",
   "execution_count": null,
   "metadata": {},
   "outputs": [],
   "source": [
    "import pandas as pd"
   ]
  },
  {
   "cell_type": "code",
   "execution_count": null,
   "metadata": {},
   "outputs": [],
   "source": [
    "df = pd.read_json(\"mergedDataset.json\")"
   ]
  },
  {
   "cell_type": "code",
   "execution_count": null,
   "metadata": {},
   "outputs": [],
   "source": [
    "df.columns"
   ]
  },
  {
   "cell_type": "markdown",
   "metadata": {},
   "source": [
    "### sources"
   ]
  },
  {
   "cell_type": "code",
   "execution_count": null,
   "metadata": {},
   "outputs": [],
   "source": [
    "# Step 1: Preprocess the DataFrame\n",
    "source_to_targets = df.groupby(\"source\")[\"target\"].apply(list).to_dict()"
   ]
  },
  {
   "cell_type": "code",
   "execution_count": null,
   "metadata": {},
   "outputs": [],
   "source": [
    "# Step 2: Initialize the dictionary\n",
    "connectionsSourcePov = {entity: {'1': []} for entity in entitiesToInvestigate}"
   ]
  },
  {
   "cell_type": "code",
   "execution_count": null,
   "metadata": {},
   "outputs": [],
   "source": [
    "# Step 3: Populate the initial connections\n",
    "for entity in connectionsSourcePov:\n",
    "    if entity in source_to_targets:\n",
    "        connectionsSourcePov[entity]['1'] = source_to_targets[entity]"
   ]
  },
  {
   "cell_type": "code",
   "execution_count": null,
   "metadata": {},
   "outputs": [],
   "source": [
    "import json\n",
    "maxDistance = 200\n",
    "\n",
    "for dist in range(2, maxDistance + 1):\n",
    "    currentDistance = str(dist)\n",
    "    previousDistance = str(dist - 1)\n",
    "    \n",
    "    for entity in entitiesToInvestigate:\n",
    "        connectionsSourcePov[entity][currentDistance] = []\n",
    "        \n",
    "        for prev_target in connectionsSourcePov[entity][previousDistance]:\n",
    "            if prev_target in source_to_targets:\n",
    "                connectionsSourcePov[entity][currentDistance].extend(source_to_targets[prev_target])\n",
    "                \n",
    "        # Remove duplicates if necessary\n",
    "        connectionsSourcePov[entity][currentDistance] = list(set(connectionsSourcePov[entity][currentDistance]))\n",
    "    \n",
    "    with open (\"connectionsLevelsSouspectSources.json\", \"w\") as f:\n",
    "        json.dump(connectionsSourcePov, f, indent=4)"
   ]
  },
  {
   "cell_type": "markdown",
   "metadata": {},
   "source": [
    "### targets"
   ]
  },
  {
   "cell_type": "code",
   "execution_count": null,
   "metadata": {},
   "outputs": [],
   "source": [
    "# Step 1: Preprocess the DataFrame\n",
    "targets_to_sources = df.groupby(\"target\")[\"source\"].apply(list).to_dict()"
   ]
  },
  {
   "cell_type": "code",
   "execution_count": null,
   "metadata": {},
   "outputs": [],
   "source": [
    "# Step 2: Initialize the dictionary\n",
    "connectionsTargetPov = {entity: {'1': []} for entity in entitiesToInvestigate}"
   ]
  },
  {
   "cell_type": "code",
   "execution_count": null,
   "metadata": {},
   "outputs": [],
   "source": [
    "# Step 3: Populate the initial connections\n",
    "for entity in connectionsTargetPov:\n",
    "    if entity in targets_to_sources:\n",
    "        connectionsTargetPov[entity]['1'] = targets_to_sources[entity]"
   ]
  },
  {
   "cell_type": "code",
   "execution_count": null,
   "metadata": {},
   "outputs": [],
   "source": [
    "#same but for targets\n",
    "import json\n",
    "maxDistance = 200\n",
    "\n",
    "for dist in range(2, maxDistance + 1):\n",
    "    currentDistance = str(dist)\n",
    "    previousDistance = str(dist - 1)\n",
    "    \n",
    "    for entity in entitiesToInvestigate:\n",
    "        connectionsTargetPov[entity][currentDistance] = []\n",
    "        \n",
    "        for prev_source in connectionsTargetPov[entity][previousDistance]:\n",
    "            if prev_source in targets_to_sources:\n",
    "                connectionsTargetPov[entity][currentDistance].extend(targets_to_sources[prev_source])\n",
    "                \n",
    "        # Remove duplicates if necessary\n",
    "        connectionsTargetPov[entity][currentDistance] = list(set(connectionsTargetPov[entity][currentDistance]))\n",
    "    \n",
    "    with open (\"connectionsLevelsSouspectTargets.json\", \"w\") as f:\n",
    "        json.dump(connectionsTargetPov, f, indent=4)"
   ]
  }
 ],
 "metadata": {
  "kernelspec": {
   "display_name": "Python 3",
   "language": "python",
   "name": "python3"
  },
  "language_info": {
   "codemirror_mode": {
    "name": "ipython",
    "version": 3
   },
   "file_extension": ".py",
   "mimetype": "text/x-python",
   "name": "python",
   "nbconvert_exporter": "python",
   "pygments_lexer": "ipython3",
   "version": "3.12.4"
  }
 },
 "nbformat": 4,
 "nbformat_minor": 2
}
