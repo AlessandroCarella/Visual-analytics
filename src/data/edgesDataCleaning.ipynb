{
 "cells": [
  {
   "cell_type": "markdown",
   "metadata": {},
   "source": [
    "### read file"
   ]
  },
  {
   "cell_type": "code",
   "execution_count": 2,
   "metadata": {},
   "outputs": [],
   "source": [
    "import pandas as pd"
   ]
  },
  {
   "cell_type": "code",
   "execution_count": 3,
   "metadata": {},
   "outputs": [],
   "source": [
    "df = pd.read_json('edges.json')"
   ]
  },
  {
   "cell_type": "code",
   "execution_count": 4,
   "metadata": {},
   "outputs": [
    {
     "data": {
      "text/html": [
       "<div>\n",
       "<style scoped>\n",
       "    .dataframe tbody tr th:only-of-type {\n",
       "        vertical-align: middle;\n",
       "    }\n",
       "\n",
       "    .dataframe tbody tr th {\n",
       "        vertical-align: top;\n",
       "    }\n",
       "\n",
       "    .dataframe thead th {\n",
       "        text-align: right;\n",
       "    }\n",
       "</style>\n",
       "<table border=\"1\" class=\"dataframe\">\n",
       "  <thead>\n",
       "    <tr style=\"text-align: right;\">\n",
       "      <th></th>\n",
       "      <th>type</th>\n",
       "      <th>weight</th>\n",
       "      <th>source</th>\n",
       "      <th>target</th>\n",
       "    </tr>\n",
       "  </thead>\n",
       "  <tbody>\n",
       "    <tr>\n",
       "      <th>0</th>\n",
       "      <td>ownership</td>\n",
       "      <td>0.900140</td>\n",
       "      <td>Spanish Shrimp  Carriers</td>\n",
       "      <td>12744</td>\n",
       "    </tr>\n",
       "    <tr>\n",
       "      <th>1</th>\n",
       "      <td>partnership</td>\n",
       "      <td>0.845897</td>\n",
       "      <td>Spanish Shrimp  Carriers</td>\n",
       "      <td>21323516</td>\n",
       "    </tr>\n",
       "    <tr>\n",
       "      <th>2</th>\n",
       "      <td>partnership</td>\n",
       "      <td>0.964876</td>\n",
       "      <td>Spanish Shrimp  Carriers</td>\n",
       "      <td>290834957</td>\n",
       "    </tr>\n",
       "    <tr>\n",
       "      <th>3</th>\n",
       "      <td>ownership</td>\n",
       "      <td>0.964213</td>\n",
       "      <td>Spanish Shrimp  Carriers</td>\n",
       "      <td>3506021</td>\n",
       "    </tr>\n",
       "    <tr>\n",
       "      <th>4</th>\n",
       "      <td>family_relationship</td>\n",
       "      <td>0.823486</td>\n",
       "      <td>Spanish Shrimp  Carriers</td>\n",
       "      <td>Conventionâ</td>\n",
       "    </tr>\n",
       "    <tr>\n",
       "      <th>...</th>\n",
       "      <td>...</td>\n",
       "      <td>...</td>\n",
       "      <td>...</td>\n",
       "      <td>...</td>\n",
       "    </tr>\n",
       "    <tr>\n",
       "      <th>11064</th>\n",
       "      <td>family_relationship</td>\n",
       "      <td>0.817772</td>\n",
       "      <td>Ocano del Este SE</td>\n",
       "      <td>Mary Clements</td>\n",
       "    </tr>\n",
       "    <tr>\n",
       "      <th>11065</th>\n",
       "      <td>partnership</td>\n",
       "      <td>0.873537</td>\n",
       "      <td>Norwegian Shrimp N.V. -</td>\n",
       "      <td>67261634</td>\n",
       "    </tr>\n",
       "    <tr>\n",
       "      <th>11066</th>\n",
       "      <td>partnership</td>\n",
       "      <td>0.849333</td>\n",
       "      <td>Norwegian Shrimp N.V. -</td>\n",
       "      <td>344</td>\n",
       "    </tr>\n",
       "    <tr>\n",
       "      <th>11067</th>\n",
       "      <td>membership</td>\n",
       "      <td>0.814217</td>\n",
       "      <td>Malabar Sea Catch Sp</td>\n",
       "      <td>672</td>\n",
       "    </tr>\n",
       "    <tr>\n",
       "      <th>11068</th>\n",
       "      <td>membership</td>\n",
       "      <td>0.823890</td>\n",
       "      <td>Malabar Sea Catch Sp</td>\n",
       "      <td>449820</td>\n",
       "    </tr>\n",
       "  </tbody>\n",
       "</table>\n",
       "<p>11069 rows × 4 columns</p>\n",
       "</div>"
      ],
      "text/plain": [
       "                      type    weight                    source         target\n",
       "0                ownership  0.900140  Spanish Shrimp  Carriers          12744\n",
       "1              partnership  0.845897  Spanish Shrimp  Carriers       21323516\n",
       "2              partnership  0.964876  Spanish Shrimp  Carriers      290834957\n",
       "3                ownership  0.964213  Spanish Shrimp  Carriers        3506021\n",
       "4      family_relationship  0.823486  Spanish Shrimp  Carriers    Conventionâ\n",
       "...                    ...       ...                       ...            ...\n",
       "11064  family_relationship  0.817772         Ocano del Este SE  Mary Clements\n",
       "11065          partnership  0.873537   Norwegian Shrimp N.V. -       67261634\n",
       "11066          partnership  0.849333   Norwegian Shrimp N.V. -            344\n",
       "11067           membership  0.814217      Malabar Sea Catch Sp            672\n",
       "11068           membership  0.823890      Malabar Sea Catch Sp         449820\n",
       "\n",
       "[11069 rows x 4 columns]"
      ]
     },
     "execution_count": 4,
     "metadata": {},
     "output_type": "execute_result"
    }
   ],
   "source": [
    "df"
   ]
  },
  {
   "cell_type": "code",
   "execution_count": 5,
   "metadata": {},
   "outputs": [
    {
     "data": {
      "text/plain": [
       "0"
      ]
     },
     "execution_count": 5,
     "metadata": {},
     "output_type": "execute_result"
    }
   ],
   "source": [
    "df.duplicated().sum()"
   ]
  },
  {
   "cell_type": "markdown",
   "metadata": {},
   "source": [
    "### remove dead ends"
   ]
  },
  {
   "cell_type": "code",
   "execution_count": 6,
   "metadata": {},
   "outputs": [
    {
     "data": {
      "text/plain": [
       "2320"
      ]
     },
     "execution_count": 6,
     "metadata": {},
     "output_type": "execute_result"
    }
   ],
   "source": [
    "uniqueSources = set(df[\"source\"].unique())\n",
    "len(uniqueSources)"
   ]
  },
  {
   "cell_type": "code",
   "execution_count": 7,
   "metadata": {},
   "outputs": [
    {
     "data": {
      "text/plain": [
       "2631"
      ]
     },
     "execution_count": 7,
     "metadata": {},
     "output_type": "execute_result"
    }
   ],
   "source": [
    "uniqueTargets = set(df[\"target\"].unique())\n",
    "len(uniqueTargets)"
   ]
  },
  {
   "cell_type": "code",
   "execution_count": 8,
   "metadata": {},
   "outputs": [
    {
     "data": {
      "text/plain": [
       "1534"
      ]
     },
     "execution_count": 8,
     "metadata": {},
     "output_type": "execute_result"
    }
   ],
   "source": [
    "intersection = uniqueSources & uniqueTargets\n",
    "len (intersection)"
   ]
  },
  {
   "cell_type": "code",
   "execution_count": 9,
   "metadata": {},
   "outputs": [],
   "source": [
    "#check if intersection is right\n",
    "for inte in intersection:\n",
    "    if inte not in df['source'].values and inte not in df['target'].values:\n",
    "        print(inte)"
   ]
  },
  {
   "cell_type": "code",
   "execution_count": 10,
   "metadata": {},
   "outputs": [
    {
     "data": {
      "text/html": [
       "<div>\n",
       "<style scoped>\n",
       "    .dataframe tbody tr th:only-of-type {\n",
       "        vertical-align: middle;\n",
       "    }\n",
       "\n",
       "    .dataframe tbody tr th {\n",
       "        vertical-align: top;\n",
       "    }\n",
       "\n",
       "    .dataframe thead th {\n",
       "        text-align: right;\n",
       "    }\n",
       "</style>\n",
       "<table border=\"1\" class=\"dataframe\">\n",
       "  <thead>\n",
       "    <tr style=\"text-align: right;\">\n",
       "      <th></th>\n",
       "      <th>type</th>\n",
       "      <th>weight</th>\n",
       "      <th>source</th>\n",
       "      <th>target</th>\n",
       "    </tr>\n",
       "  </thead>\n",
       "  <tbody>\n",
       "    <tr>\n",
       "      <th>0</th>\n",
       "      <td>ownership</td>\n",
       "      <td>0.900140</td>\n",
       "      <td>Spanish Shrimp  Carriers</td>\n",
       "      <td>12744</td>\n",
       "    </tr>\n",
       "    <tr>\n",
       "      <th>1</th>\n",
       "      <td>partnership</td>\n",
       "      <td>0.845897</td>\n",
       "      <td>Spanish Shrimp  Carriers</td>\n",
       "      <td>21323516</td>\n",
       "    </tr>\n",
       "    <tr>\n",
       "      <th>2</th>\n",
       "      <td>partnership</td>\n",
       "      <td>0.964876</td>\n",
       "      <td>Spanish Shrimp  Carriers</td>\n",
       "      <td>290834957</td>\n",
       "    </tr>\n",
       "    <tr>\n",
       "      <th>3</th>\n",
       "      <td>ownership</td>\n",
       "      <td>0.964213</td>\n",
       "      <td>Spanish Shrimp  Carriers</td>\n",
       "      <td>3506021</td>\n",
       "    </tr>\n",
       "    <tr>\n",
       "      <th>4</th>\n",
       "      <td>family_relationship</td>\n",
       "      <td>0.823486</td>\n",
       "      <td>Spanish Shrimp  Carriers</td>\n",
       "      <td>Conventionâ</td>\n",
       "    </tr>\n",
       "    <tr>\n",
       "      <th>...</th>\n",
       "      <td>...</td>\n",
       "      <td>...</td>\n",
       "      <td>...</td>\n",
       "      <td>...</td>\n",
       "    </tr>\n",
       "    <tr>\n",
       "      <th>11063</th>\n",
       "      <td>family_relationship</td>\n",
       "      <td>0.870088</td>\n",
       "      <td>Ocano del Este SE</td>\n",
       "      <td>011ad1ae-ae1b-4c74-9f58-c020e6a3e836</td>\n",
       "    </tr>\n",
       "    <tr>\n",
       "      <th>11064</th>\n",
       "      <td>family_relationship</td>\n",
       "      <td>0.817772</td>\n",
       "      <td>Ocano del Este SE</td>\n",
       "      <td>Mary Clements</td>\n",
       "    </tr>\n",
       "    <tr>\n",
       "      <th>11065</th>\n",
       "      <td>partnership</td>\n",
       "      <td>0.873537</td>\n",
       "      <td>Norwegian Shrimp N.V. -</td>\n",
       "      <td>67261634</td>\n",
       "    </tr>\n",
       "    <tr>\n",
       "      <th>11066</th>\n",
       "      <td>partnership</td>\n",
       "      <td>0.849333</td>\n",
       "      <td>Norwegian Shrimp N.V. -</td>\n",
       "      <td>344</td>\n",
       "    </tr>\n",
       "    <tr>\n",
       "      <th>11067</th>\n",
       "      <td>membership</td>\n",
       "      <td>0.814217</td>\n",
       "      <td>Malabar Sea Catch Sp</td>\n",
       "      <td>672</td>\n",
       "    </tr>\n",
       "  </tbody>\n",
       "</table>\n",
       "<p>10312 rows × 4 columns</p>\n",
       "</div>"
      ],
      "text/plain": [
       "                      type    weight                    source  \\\n",
       "0                ownership  0.900140  Spanish Shrimp  Carriers   \n",
       "1              partnership  0.845897  Spanish Shrimp  Carriers   \n",
       "2              partnership  0.964876  Spanish Shrimp  Carriers   \n",
       "3                ownership  0.964213  Spanish Shrimp  Carriers   \n",
       "4      family_relationship  0.823486  Spanish Shrimp  Carriers   \n",
       "...                    ...       ...                       ...   \n",
       "11063  family_relationship  0.870088         Ocano del Este SE   \n",
       "11064  family_relationship  0.817772         Ocano del Este SE   \n",
       "11065          partnership  0.873537   Norwegian Shrimp N.V. -   \n",
       "11066          partnership  0.849333   Norwegian Shrimp N.V. -   \n",
       "11067           membership  0.814217      Malabar Sea Catch Sp   \n",
       "\n",
       "                                     target  \n",
       "0                                     12744  \n",
       "1                                  21323516  \n",
       "2                                 290834957  \n",
       "3                                   3506021  \n",
       "4                               Conventionâ  \n",
       "...                                     ...  \n",
       "11063  011ad1ae-ae1b-4c74-9f58-c020e6a3e836  \n",
       "11064                         Mary Clements  \n",
       "11065                              67261634  \n",
       "11066                                   344  \n",
       "11067                                   672  \n",
       "\n",
       "[10312 rows x 4 columns]"
      ]
     },
     "execution_count": 10,
     "metadata": {},
     "output_type": "execute_result"
    }
   ],
   "source": [
    "noDeadEndDf = df[(df['source'].isin(intersection)) | (df['target'].isin(intersection))]\n",
    "noDeadEndDf"
   ]
  },
  {
   "cell_type": "code",
   "execution_count": 11,
   "metadata": {},
   "outputs": [],
   "source": [
    "noDeadEndDf.to_json (\"edgesCleanWithCoordinatesNoDeadEnds.json\", orient=\"records\", indent=4)"
   ]
  }
 ],
 "metadata": {
  "kernelspec": {
   "display_name": "Python 3",
   "language": "python",
   "name": "python3"
  },
  "language_info": {
   "codemirror_mode": {
    "name": "ipython",
    "version": 3
   },
   "file_extension": ".py",
   "mimetype": "text/x-python",
   "name": "python",
   "nbconvert_exporter": "python",
   "pygments_lexer": "ipython3",
   "version": "3.12.4"
  }
 },
 "nbformat": 4,
 "nbformat_minor": 2
}
