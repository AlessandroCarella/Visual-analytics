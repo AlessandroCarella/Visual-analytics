{
 "cells": [
  {
   "cell_type": "markdown",
   "metadata": {},
   "source": [
    "### read file"
   ]
  },
  {
   "cell_type": "code",
   "execution_count": 19,
   "metadata": {},
   "outputs": [],
   "source": [
    "import pandas as pd"
   ]
  },
  {
   "cell_type": "code",
   "execution_count": 20,
   "metadata": {},
   "outputs": [],
   "source": [
    "df = pd.read_json('edges.json')"
   ]
  },
  {
   "cell_type": "code",
   "execution_count": 21,
   "metadata": {},
   "outputs": [
    {
     "data": {
      "text/html": [
       "<div>\n",
       "<style scoped>\n",
       "    .dataframe tbody tr th:only-of-type {\n",
       "        vertical-align: middle;\n",
       "    }\n",
       "\n",
       "    .dataframe tbody tr th {\n",
       "        vertical-align: top;\n",
       "    }\n",
       "\n",
       "    .dataframe thead th {\n",
       "        text-align: right;\n",
       "    }\n",
       "</style>\n",
       "<table border=\"1\" class=\"dataframe\">\n",
       "  <thead>\n",
       "    <tr style=\"text-align: right;\">\n",
       "      <th></th>\n",
       "      <th>type</th>\n",
       "      <th>weight</th>\n",
       "      <th>source</th>\n",
       "      <th>target</th>\n",
       "    </tr>\n",
       "  </thead>\n",
       "  <tbody>\n",
       "    <tr>\n",
       "      <th>0</th>\n",
       "      <td>ownership</td>\n",
       "      <td>0.900140</td>\n",
       "      <td>Spanish Shrimp  Carriers</td>\n",
       "      <td>12744</td>\n",
       "    </tr>\n",
       "    <tr>\n",
       "      <th>1</th>\n",
       "      <td>partnership</td>\n",
       "      <td>0.845897</td>\n",
       "      <td>Spanish Shrimp  Carriers</td>\n",
       "      <td>21323516</td>\n",
       "    </tr>\n",
       "    <tr>\n",
       "      <th>2</th>\n",
       "      <td>partnership</td>\n",
       "      <td>0.964876</td>\n",
       "      <td>Spanish Shrimp  Carriers</td>\n",
       "      <td>290834957</td>\n",
       "    </tr>\n",
       "    <tr>\n",
       "      <th>3</th>\n",
       "      <td>ownership</td>\n",
       "      <td>0.964213</td>\n",
       "      <td>Spanish Shrimp  Carriers</td>\n",
       "      <td>3506021</td>\n",
       "    </tr>\n",
       "    <tr>\n",
       "      <th>4</th>\n",
       "      <td>family_relationship</td>\n",
       "      <td>0.823486</td>\n",
       "      <td>Spanish Shrimp  Carriers</td>\n",
       "      <td>Conventionâ</td>\n",
       "    </tr>\n",
       "    <tr>\n",
       "      <th>...</th>\n",
       "      <td>...</td>\n",
       "      <td>...</td>\n",
       "      <td>...</td>\n",
       "      <td>...</td>\n",
       "    </tr>\n",
       "    <tr>\n",
       "      <th>11064</th>\n",
       "      <td>family_relationship</td>\n",
       "      <td>0.817772</td>\n",
       "      <td>Ocano del Este SE</td>\n",
       "      <td>Mary Clements</td>\n",
       "    </tr>\n",
       "    <tr>\n",
       "      <th>11065</th>\n",
       "      <td>partnership</td>\n",
       "      <td>0.873537</td>\n",
       "      <td>Norwegian Shrimp N.V. -</td>\n",
       "      <td>67261634</td>\n",
       "    </tr>\n",
       "    <tr>\n",
       "      <th>11066</th>\n",
       "      <td>partnership</td>\n",
       "      <td>0.849333</td>\n",
       "      <td>Norwegian Shrimp N.V. -</td>\n",
       "      <td>344</td>\n",
       "    </tr>\n",
       "    <tr>\n",
       "      <th>11067</th>\n",
       "      <td>membership</td>\n",
       "      <td>0.814217</td>\n",
       "      <td>Malabar Sea Catch Sp</td>\n",
       "      <td>672</td>\n",
       "    </tr>\n",
       "    <tr>\n",
       "      <th>11068</th>\n",
       "      <td>membership</td>\n",
       "      <td>0.823890</td>\n",
       "      <td>Malabar Sea Catch Sp</td>\n",
       "      <td>449820</td>\n",
       "    </tr>\n",
       "  </tbody>\n",
       "</table>\n",
       "<p>11069 rows × 4 columns</p>\n",
       "</div>"
      ],
      "text/plain": [
       "                      type    weight                    source         target\n",
       "0                ownership  0.900140  Spanish Shrimp  Carriers          12744\n",
       "1              partnership  0.845897  Spanish Shrimp  Carriers       21323516\n",
       "2              partnership  0.964876  Spanish Shrimp  Carriers      290834957\n",
       "3                ownership  0.964213  Spanish Shrimp  Carriers        3506021\n",
       "4      family_relationship  0.823486  Spanish Shrimp  Carriers    Conventionâ\n",
       "...                    ...       ...                       ...            ...\n",
       "11064  family_relationship  0.817772         Ocano del Este SE  Mary Clements\n",
       "11065          partnership  0.873537   Norwegian Shrimp N.V. -       67261634\n",
       "11066          partnership  0.849333   Norwegian Shrimp N.V. -            344\n",
       "11067           membership  0.814217      Malabar Sea Catch Sp            672\n",
       "11068           membership  0.823890      Malabar Sea Catch Sp         449820\n",
       "\n",
       "[11069 rows x 4 columns]"
      ]
     },
     "execution_count": 21,
     "metadata": {},
     "output_type": "execute_result"
    }
   ],
   "source": [
    "df"
   ]
  },
  {
   "cell_type": "markdown",
   "metadata": {},
   "source": [
    "### remove dead ends"
   ]
  },
  {
   "cell_type": "markdown",
   "metadata": {},
   "source": [
    "spoiler: this does not make sense because sometimes nodes are only target but they are targets of other companies and that might be interesting for too see which companies, for example, own a single company togheter"
   ]
  },
  {
   "cell_type": "code",
   "execution_count": 22,
   "metadata": {},
   "outputs": [
    {
     "data": {
      "text/plain": [
       "2320"
      ]
     },
     "execution_count": 22,
     "metadata": {},
     "output_type": "execute_result"
    }
   ],
   "source": [
    "uniqueSources = set(df[\"source\"].unique())\n",
    "len(uniqueSources)"
   ]
  },
  {
   "cell_type": "code",
   "execution_count": 23,
   "metadata": {},
   "outputs": [
    {
     "data": {
      "text/plain": [
       "2631"
      ]
     },
     "execution_count": 23,
     "metadata": {},
     "output_type": "execute_result"
    }
   ],
   "source": [
    "uniqueTargets = set(df[\"target\"].unique())\n",
    "len(uniqueTargets)"
   ]
  },
  {
   "cell_type": "code",
   "execution_count": 24,
   "metadata": {},
   "outputs": [
    {
     "data": {
      "text/plain": [
       "1534"
      ]
     },
     "execution_count": 24,
     "metadata": {},
     "output_type": "execute_result"
    }
   ],
   "source": [
    "intersection = uniqueSources & uniqueTargets\n",
    "len (intersection)"
   ]
  },
  {
   "cell_type": "code",
   "execution_count": 25,
   "metadata": {},
   "outputs": [],
   "source": [
    "#check if intersection is right\n",
    "for inte in intersection:\n",
    "    if inte not in df['source'].values and inte not in df['target'].values:\n",
    "        print(inte)"
   ]
  },
  {
   "cell_type": "code",
   "execution_count": 26,
   "metadata": {},
   "outputs": [
    {
     "data": {
      "text/html": [
       "<div>\n",
       "<style scoped>\n",
       "    .dataframe tbody tr th:only-of-type {\n",
       "        vertical-align: middle;\n",
       "    }\n",
       "\n",
       "    .dataframe tbody tr th {\n",
       "        vertical-align: top;\n",
       "    }\n",
       "\n",
       "    .dataframe thead th {\n",
       "        text-align: right;\n",
       "    }\n",
       "</style>\n",
       "<table border=\"1\" class=\"dataframe\">\n",
       "  <thead>\n",
       "    <tr style=\"text-align: right;\">\n",
       "      <th></th>\n",
       "      <th>type</th>\n",
       "      <th>weight</th>\n",
       "      <th>source</th>\n",
       "      <th>target</th>\n",
       "    </tr>\n",
       "  </thead>\n",
       "  <tbody>\n",
       "    <tr>\n",
       "      <th>0</th>\n",
       "      <td>ownership</td>\n",
       "      <td>0.900140</td>\n",
       "      <td>Spanish Shrimp  Carriers</td>\n",
       "      <td>12744</td>\n",
       "    </tr>\n",
       "    <tr>\n",
       "      <th>1</th>\n",
       "      <td>partnership</td>\n",
       "      <td>0.845897</td>\n",
       "      <td>Spanish Shrimp  Carriers</td>\n",
       "      <td>21323516</td>\n",
       "    </tr>\n",
       "    <tr>\n",
       "      <th>2</th>\n",
       "      <td>partnership</td>\n",
       "      <td>0.964876</td>\n",
       "      <td>Spanish Shrimp  Carriers</td>\n",
       "      <td>290834957</td>\n",
       "    </tr>\n",
       "    <tr>\n",
       "      <th>3</th>\n",
       "      <td>ownership</td>\n",
       "      <td>0.964213</td>\n",
       "      <td>Spanish Shrimp  Carriers</td>\n",
       "      <td>3506021</td>\n",
       "    </tr>\n",
       "    <tr>\n",
       "      <th>4</th>\n",
       "      <td>family_relationship</td>\n",
       "      <td>0.823486</td>\n",
       "      <td>Spanish Shrimp  Carriers</td>\n",
       "      <td>Conventionâ</td>\n",
       "    </tr>\n",
       "    <tr>\n",
       "      <th>...</th>\n",
       "      <td>...</td>\n",
       "      <td>...</td>\n",
       "      <td>...</td>\n",
       "      <td>...</td>\n",
       "    </tr>\n",
       "    <tr>\n",
       "      <th>11063</th>\n",
       "      <td>family_relationship</td>\n",
       "      <td>0.870088</td>\n",
       "      <td>Ocano del Este SE</td>\n",
       "      <td>011ad1ae-ae1b-4c74-9f58-c020e6a3e836</td>\n",
       "    </tr>\n",
       "    <tr>\n",
       "      <th>11064</th>\n",
       "      <td>family_relationship</td>\n",
       "      <td>0.817772</td>\n",
       "      <td>Ocano del Este SE</td>\n",
       "      <td>Mary Clements</td>\n",
       "    </tr>\n",
       "    <tr>\n",
       "      <th>11065</th>\n",
       "      <td>partnership</td>\n",
       "      <td>0.873537</td>\n",
       "      <td>Norwegian Shrimp N.V. -</td>\n",
       "      <td>67261634</td>\n",
       "    </tr>\n",
       "    <tr>\n",
       "      <th>11066</th>\n",
       "      <td>partnership</td>\n",
       "      <td>0.849333</td>\n",
       "      <td>Norwegian Shrimp N.V. -</td>\n",
       "      <td>344</td>\n",
       "    </tr>\n",
       "    <tr>\n",
       "      <th>11067</th>\n",
       "      <td>membership</td>\n",
       "      <td>0.814217</td>\n",
       "      <td>Malabar Sea Catch Sp</td>\n",
       "      <td>672</td>\n",
       "    </tr>\n",
       "  </tbody>\n",
       "</table>\n",
       "<p>10312 rows × 4 columns</p>\n",
       "</div>"
      ],
      "text/plain": [
       "                      type    weight                    source  \\\n",
       "0                ownership  0.900140  Spanish Shrimp  Carriers   \n",
       "1              partnership  0.845897  Spanish Shrimp  Carriers   \n",
       "2              partnership  0.964876  Spanish Shrimp  Carriers   \n",
       "3                ownership  0.964213  Spanish Shrimp  Carriers   \n",
       "4      family_relationship  0.823486  Spanish Shrimp  Carriers   \n",
       "...                    ...       ...                       ...   \n",
       "11063  family_relationship  0.870088         Ocano del Este SE   \n",
       "11064  family_relationship  0.817772         Ocano del Este SE   \n",
       "11065          partnership  0.873537   Norwegian Shrimp N.V. -   \n",
       "11066          partnership  0.849333   Norwegian Shrimp N.V. -   \n",
       "11067           membership  0.814217      Malabar Sea Catch Sp   \n",
       "\n",
       "                                     target  \n",
       "0                                     12744  \n",
       "1                                  21323516  \n",
       "2                                 290834957  \n",
       "3                                   3506021  \n",
       "4                               Conventionâ  \n",
       "...                                     ...  \n",
       "11063  011ad1ae-ae1b-4c74-9f58-c020e6a3e836  \n",
       "11064                         Mary Clements  \n",
       "11065                              67261634  \n",
       "11066                                   344  \n",
       "11067                                   672  \n",
       "\n",
       "[10312 rows x 4 columns]"
      ]
     },
     "execution_count": 26,
     "metadata": {},
     "output_type": "execute_result"
    }
   ],
   "source": [
    "noDeadEndDf = df[(df['source'].isin(intersection)) | (df['target'].isin(intersection))]\n",
    "noDeadEndDf"
   ]
  },
  {
   "cell_type": "code",
   "execution_count": 27,
   "metadata": {},
   "outputs": [],
   "source": [
    "noDeadEndDf.to_json (\"edgesNoDeadEnds (discarded).json\", orient=\"records\", indent=4)"
   ]
  },
  {
   "cell_type": "markdown",
   "metadata": {},
   "source": [
    "### weight analysis"
   ]
  },
  {
   "cell_type": "code",
   "execution_count": 29,
   "metadata": {},
   "outputs": [],
   "source": [
    "import numpy as np\n",
    "# Create intervals\n",
    "bins = np.arange(0, 1.05, 0.05)  # Create bins from 0 to 1, in intervals of 0.05\n",
    "df['weight_interval'] = pd.cut(df['weight'], bins=bins)\n",
    "\n",
    "# Count frequencies in each interval\n",
    "frequency = df['weight_interval'].value_counts().sort_index()"
   ]
  },
  {
   "cell_type": "code",
   "execution_count": 34,
   "metadata": {},
   "outputs": [
    {
     "data": {
      "text/plain": [
       "weight_interval\n",
       "(0.0, 0.05]       4\n",
       "(0.05, 0.1]       3\n",
       "(0.1, 0.15]       5\n",
       "(0.15, 0.2]       7\n",
       "(0.2, 0.25]       8\n",
       "(0.25, 0.3]       7\n",
       "(0.3, 0.35]       7\n",
       "(0.35, 0.4]       5\n",
       "(0.4, 0.45]       8\n",
       "(0.45, 0.5]       5\n",
       "(0.5, 0.55]       5\n",
       "(0.55, 0.6]       2\n",
       "(0.6, 0.65]       4\n",
       "(0.65, 0.7]       8\n",
       "(0.7, 0.75]       5\n",
       "(0.75, 0.8]       5\n",
       "(0.8, 0.85]    3938\n",
       "(0.85, 0.9]    3458\n",
       "(0.9, 0.95]    2483\n",
       "(0.95, 1.0]    1102\n",
       "Name: count, dtype: int64"
      ]
     },
     "execution_count": 34,
     "metadata": {},
     "output_type": "execute_result"
    }
   ],
   "source": [
    "frequency"
   ]
  },
  {
   "cell_type": "code",
   "execution_count": 31,
   "metadata": {},
   "outputs": [
    {
     "data": {
      "image/png": "[encoded data removed]",
      "text/plain": [
       "<Figure size 640x480 with 1 Axes>"
      ]
     },
     "metadata": {},
     "output_type": "display_data"
    }
   ],
   "source": [
    "import matplotlib.pyplot as plt\n",
    "# Plotting\n",
    "plt.bar(frequency.index.astype(str), frequency.values, width=0.5)\n",
    "plt.xticks(rotation=45)\n",
    "plt.xlabel('Weight Intervals')\n",
    "plt.ylabel('Frequency')\n",
    "plt.title('Weight Distribution in Intervals of 0.05')\n",
    "plt.show()\n"
   ]
  },
  {
   "cell_type": "markdown",
   "metadata": {},
   "source": [
    "as one can see both in the plot and in the printed frequency the edges with a weight of less than 0.8 are in total"
   ]
  },
  {
   "cell_type": "code",
   "execution_count": 35,
   "metadata": {},
   "outputs": [
    {
     "data": {
      "text/plain": [
       "88"
      ]
     },
     "execution_count": 35,
     "metadata": {},
     "output_type": "execute_result"
    }
   ],
   "source": [
    "df[(df['weight'] > 0) & (df['weight'] <= 0.8)].shape[0]"
   ]
  },
  {
   "cell_type": "markdown",
   "metadata": {},
   "source": [
    "and the number of edges between 0.8 and 1 is"
   ]
  },
  {
   "cell_type": "code",
   "execution_count": 36,
   "metadata": {},
   "outputs": [
    {
     "data": {
      "text/plain": [
       "10981"
      ]
     },
     "execution_count": 36,
     "metadata": {},
     "output_type": "execute_result"
    }
   ],
   "source": [
    "df[(df['weight'] > 0.8)].shape[0]"
   ]
  },
  {
   "cell_type": "markdown",
   "metadata": {},
   "source": [
    "next idea: create a dataset with only the low weight edges and plot it"
   ]
  },
  {
   "cell_type": "code",
   "execution_count": 38,
   "metadata": {},
   "outputs": [],
   "source": [
    "df[(df['weight'] <= 0.8)].to_json(\"edgesLowWeight (discarded).json\", orient=\"records\", indent=4)"
   ]
  },
  {
   "cell_type": "markdown",
   "metadata": {},
   "source": [
    "there is not much interesting data in this plot but the file will be kept so that it is possible to plot it"
   ]
  }
 ],
 "metadata": {
  "kernelspec": {
   "display_name": "Python 3",
   "language": "python",
   "name": "python3"
  },
  "language_info": {
   "codemirror_mode": {
    "name": "ipython",
    "version": 3
   },
   "file_extension": ".py",
   "mimetype": "text/x-python",
   "name": "python",
   "nbconvert_exporter": "python",
   "pygments_lexer": "ipython3",
   "version": "3.12.4"
  }
 },
 "nbformat": 4,
 "nbformat_minor": 2
}
