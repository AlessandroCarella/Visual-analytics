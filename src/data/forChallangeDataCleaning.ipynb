{
 "cells": [
  {
   "cell_type": "markdown",
   "metadata": {},
   "source": [
    "focus on the entities given by the task\n",
    "\n",
    "Entities to investigate\n",
    "\n",
    "1. Mar de la Vida OJSC\n",
    "2. 979893388\n",
    "3. Oceanfront Oasis Inc Carrie\n",
    "4. 8327"
   ]
  },
  {
   "cell_type": "code",
   "execution_count": null,
   "metadata": {},
   "outputs": [],
   "source": []
  }
 ],
 "metadata": {
  "language_info": {
   "name": "python"
  }
 },
 "nbformat": 4,
 "nbformat_minor": 2
}
