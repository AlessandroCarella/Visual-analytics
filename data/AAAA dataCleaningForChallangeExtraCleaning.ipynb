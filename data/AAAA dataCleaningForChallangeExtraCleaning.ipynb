{
 "cells": [
  {
   "cell_type": "markdown",
   "metadata": {},
   "source": [
    "focus on the entities given by the task\n",
    "\n",
    "Entities to investigate\n",
    "\n",
    "1. Mar de la Vida OJSC\n",
    "2. 979893388\n",
    "3. Oceanfront Oasis Inc Carrie\n",
    "4. 8327"
   ]
  },
  {
   "cell_type": "code",
   "execution_count": 7,
   "metadata": {},
   "outputs": [],
   "source": [
    "import json"
   ]
  },
  {
   "cell_type": "code",
   "execution_count": 8,
   "metadata": {},
   "outputs": [],
   "source": [
    "files = [\"connectionsLevelsSouspectSources.json\", \"connectionsLevelsSouspectTargets.json\"]"
   ]
  },
  {
   "cell_type": "code",
   "execution_count": 9,
   "metadata": {},
   "outputs": [],
   "source": [
    "datas = []\n",
    "for file in files:\n",
    "    with open (file) as f:\n",
    "        datas.append (json.load(f))"
   ]
  },
  {
   "cell_type": "code",
   "execution_count": 10,
   "metadata": {},
   "outputs": [],
   "source": [
    "def clean_repetition(dictionary):\n",
    "    cleaned_dict = {}\n",
    "    \n",
    "    for elem, sub_dict in dictionary.items():\n",
    "        cleaned_dict[elem] = {}\n",
    "        seen_elements = set()\n",
    "        \n",
    "        # Convert keys to integers and sort them\n",
    "        sorted_keys = sorted(sub_dict.keys(), key=int)\n",
    "        \n",
    "        for key in sorted_keys:\n",
    "            current_list = sub_dict[key]\n",
    "            # Filter out elements that have been seen before\n",
    "            cleaned_list = [item for item in current_list if item not in seen_elements]\n",
    "            # Add the cleaned list to the result\n",
    "            cleaned_dict[elem][key] = cleaned_list\n",
    "            # Update the set of seen elements\n",
    "            seen_elements.update(cleaned_list)\n",
    "    \n",
    "    return cleaned_dict\n"
   ]
  },
  {
   "cell_type": "code",
   "execution_count": 11,
   "metadata": {},
   "outputs": [],
   "source": [
    "cleanedDatas = []\n",
    "for data in datas:\n",
    "    cleanedDatas.append(clean_repetition(data))"
   ]
  },
  {
   "cell_type": "code",
   "execution_count": 12,
   "metadata": {},
   "outputs": [],
   "source": [
    "from os import path\n",
    "for file in files:\n",
    "    with open (path.splitext(file)[0] + \"NoRepetition\" + path.splitext(file)[1], \"w\") as f:\n",
    "        json.dump(cleanedDatas[files.index(file)], f, indent=4)"
   ]
  }
 ],
 "metadata": {
  "kernelspec": {
   "display_name": "Python 3",
   "language": "python",
   "name": "python3"
  },
  "language_info": {
   "codemirror_mode": {
    "name": "ipython",
    "version": 3
   },
   "file_extension": ".py",
   "mimetype": "text/x-python",
   "name": "python",
   "nbconvert_exporter": "python",
   "pygments_lexer": "ipython3",
   "version": "3.9.13"
  }
 },
 "nbformat": 4,
 "nbformat_minor": 2
}
